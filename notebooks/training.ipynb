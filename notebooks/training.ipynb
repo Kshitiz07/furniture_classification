{
  "cells": [
    {
      "cell_type": "code",
      "execution_count": null,
      "metadata": {
        "colab": {
          "base_uri": "https://localhost:8080/"
        },
        "id": "J1fZEscaHaQz",
        "outputId": "abb985ca-2bb2-4877-f338-1c66ae219aeb"
      },
      "outputs": [],
      "source": [
        "from google.colab import drive\n",
        "drive.mount('/content/drive')\n"
      ]
    },
    {
      "cell_type": "code",
      "execution_count": null,
      "metadata": {},
      "outputs": [],
      "source": [
        "import torch\n",
        "import torch.nn as nn\n",
        "import torch.optim as optim\n",
        "import torchvision.models as models\n",
        "import torchvision.transforms as transforms\n",
        "import torchvision.datasets as datasets\n",
        "import os\n",
        "import shutil\n",
        "from sklearn.model_selection import train_test_split"
      ]
    },
    {
      "cell_type": "code",
      "execution_count": 2,
      "metadata": {
        "id": "UYJ3ynD5IdbD"
      },
      "outputs": [],
      "source": [
        "# Set the root directory of the dataset\n",
        "root_dir = '/content/drive/MyDrive/Data'\n",
        "\n",
        "# Create a dictionary to map the label names to integers\n",
        "label_map = {'Sofa': 0, 'Bed': 1, 'Chair': 2}"
      ]
    },
    {
      "cell_type": "code",
      "execution_count": null,
      "metadata": {},
      "outputs": [],
      "source": [
        "# Create a list of all the image file paths and their corresponding labels\n",
        "data = []\n",
        "for label in label_map.keys():\n",
        "    path = os.path.join(root_dir, label)\n",
        "    for filename in os.listdir(path):\n",
        "        if filename.endswith('.jpg'):\n",
        "            file_path = os.path.join(path, filename)\n",
        "            label_id = label_map[label]\n",
        "            data.append((file_path, label_id))"
      ]
    },
    {
      "cell_type": "code",
      "execution_count": null,
      "metadata": {
        "id": "fjWHQ29ZIfj1"
      },
      "outputs": [],
      "source": [
        "# Split the data into training and testing sets\n",
        "train_data, test_data = train_test_split(data, test_size=0.1, random_state=42)\n",
        "\n",
        "# Create the training and testing directories and copy the images\n",
        "train_dir = 'train/'\n",
        "test_dir = 'test/'\n",
        "\n",
        "for label_id in label_map.values():\n",
        "    os.makedirs(os.path.join(train_dir, str(label_id)), exist_ok=True)\n",
        "    os.makedirs(os.path.join(test_dir, str(label_id)), exist_ok=True)\n",
        "\n",
        "for file_path, label_id in train_data:\n",
        "    filename = os.path.basename(file_path)\n",
        "    shutil.copy(file_path, os.path.join(train_dir, str(label_id), filename))\n",
        "\n",
        "for file_path, label_id in test_data:\n",
        "    filename = os.path.basename(file_path)\n",
        "    shutil.copy(file_path, os.path.join(test_dir, str(label_id), filename))"
      ]
    },
    {
      "cell_type": "code",
      "execution_count": 5,
      "metadata": {
        "id": "HGI3xvFwP5F2"
      },
      "outputs": [],
      "source": [
        "# Define transforms for training and testing datasets\n",
        "train_transforms = transforms.Compose([\n",
        "    transforms.Resize((224, 224)),\n",
        "    transforms.RandomHorizontalFlip(),\n",
        "    transforms.RandomRotation(10),\n",
        "    transforms.ToTensor(),\n",
        "    transforms.Normalize([0.485, 0.456, 0.406], [0.229, 0.224, 0.225])\n",
        "])\n",
        "\n",
        "test_transforms = transforms.Compose([\n",
        "    transforms.Resize((224, 224)),\n",
        "    transforms.ToTensor(),\n",
        "    transforms.Normalize([0.485, 0.456, 0.406], [0.229, 0.224, 0.225])\n",
        "])"
      ]
    },
    {
      "cell_type": "code",
      "execution_count": 6,
      "metadata": {
        "id": "qMcnUlSOP7l5"
      },
      "outputs": [],
      "source": [
        "# Load the data\n",
        "train_data = datasets.ImageFolder('/content/train', transform=train_transforms)\n",
        "test_data = datasets.ImageFolder('/content/test', transform=test_transforms)\n",
        "from torch.utils.data import DataLoader\n",
        "# # Define the data loaders for the training and testing sets\n",
        "# train_loader = torch.utils.data.DataLoader(train_data, batch_size=64, shuffle=True)\n",
        "# test_loader = torch.utils.data.DataLoader(test_data, batch_size=64, shuffle=True)\n"
      ]
    },
    {
      "cell_type": "code",
      "execution_count": null,
      "metadata": {
        "colab": {
          "base_uri": "https://localhost:8080/"
        },
        "id": "2pHv0Zh8Rpy1",
        "outputId": "ca5e6103-53f1-40e2-bd3b-91a6f0fcf525"
      },
      "outputs": [],
      "source": [
        "# Define the model architecture\n",
        "model = models.resnet18(pretrained=True)\n",
        "num_features = model.fc.in_features\n",
        "model.fc = nn.Linear(num_features, len(train_data.classes))\n",
        "\n",
        "# Define the loss function and optimizer\n",
        "criterion = nn.CrossEntropyLoss()\n",
        "optimizer = optim.Adam(model.parameters())\n",
        "\n",
        "# Define data loaders\n",
        "train_loader = DataLoader(train_data, batch_size=64, shuffle=True)\n",
        "test_loader = DataLoader(test_data, batch_size=64)\n",
        "\n",
        "# Train the model\n",
        "num_epochs = 30\n",
        "device = torch.device('cuda' if torch.cuda.is_available() else 'cpu')\n",
        "model.to(device)"
      ]
    },
    {
      "cell_type": "code",
      "execution_count": 33,
      "metadata": {
        "id": "E8-ACrD3QF2K"
      },
      "outputs": [],
      "source": [
        "# Set the model to train mode\n",
        "model.train()\n",
        "\n",
        "# Define the loss function and optimizer\n",
        "criterion = nn.CrossEntropyLoss()\n",
        "optimizer = optim.SGD(model.fc.parameters(), lr=0.001, momentum=0.9)"
      ]
    },
    {
      "cell_type": "code",
      "execution_count": null,
      "metadata": {
        "colab": {
          "base_uri": "https://localhost:8080/"
        },
        "id": "G1eiABAqQJal",
        "outputId": "d16ed8ee-01fb-4129-a87e-800e4e7d66e5"
      },
      "outputs": [],
      "source": [
        "for epoch in range(num_epochs):\n",
        "    # Training\n",
        "    model.train()\n",
        "    for images, labels in train_loader:\n",
        "        images = images.to(device)\n",
        "        labels = labels.to(device)\n",
        "        optimizer.zero_grad()\n",
        "        logits = model(images)\n",
        "        loss = criterion(logits, labels)\n",
        "        loss.backward()\n",
        "        optimizer.step()\n",
        "\n",
        "    # Validation\n",
        "    model.eval()\n",
        "    with torch.no_grad():\n",
        "        accuracy = 0\n",
        "        for images, labels in test_loader:\n",
        "            images = images.to(device)\n",
        "            labels = labels.to(device)\n",
        "            logits = model(images)\n",
        "            accuracy += (logits.argmax(1) == labels).float().sum()\n",
        "        accuracy /= len(test_data)\n",
        "    print(f\"Epoch {epoch+1}, Validation Accuracy: {accuracy.item()*100}%\")\n",
        "\n",
        "# Save the trained model parameters\n",
        "torch.save(model.state_dict(), 'model.pth')"
      ]
    },
    {
      "cell_type": "code",
      "execution_count": null,
      "metadata": {
        "colab": {
          "base_uri": "https://localhost:8080/"
        },
        "id": "i7pBxi_7SjTH",
        "outputId": "911bc496-cb5f-4ca5-88fe-c66c5fd5e69c"
      },
      "outputs": [],
      "source": [
        "import torch\n",
        "import torchvision.transforms as transforms\n",
        "from PIL import Image\n",
        "import torch.nn.functional as F\n",
        "\n",
        "# Load the saved model checkpoint\n",
        "checkpoint = torch.load('model.pth')"
      ]
    },
    {
      "cell_type": "code",
      "execution_count": null,
      "metadata": {},
      "outputs": [],
      "source": [
        "# Load the model architecture\n",
        "model = models.resnet18(pretrained=True)\n",
        "num_ftrs = model.fc.in_features\n",
        "model.fc = nn.Linear(num_ftrs, 3)"
      ]
    },
    {
      "cell_type": "code",
      "execution_count": null,
      "metadata": {},
      "outputs": [],
      "source": [
        "# Load the model state dictionary\n",
        "model.load_state_dict(torch.load('model.pth'))\n",
        "#model.load_state_dict(checkpoint['state_dict'])\n",
        "\n",
        "# Set the model to evaluation mode\n",
        "model.eval()"
      ]
    },
    {
      "cell_type": "code",
      "execution_count": null,
      "metadata": {},
      "outputs": [],
      "source": [
        "# Define the image transform\n",
        "transform = transforms.Compose([\n",
        "    transforms.Resize((224, 224)),\n",
        "    transforms.ToTensor(),\n",
        "    transforms.Normalize([0.485, 0.456, 0.406], [0.229, 0.224, 0.225])\n",
        "])"
      ]
    },
    {
      "cell_type": "code",
      "execution_count": null,
      "metadata": {},
      "outputs": [],
      "source": [
        "# Load the image\n",
        "image = Image.open('/content/3 SEATER SOFA OG.JPG')\n",
        "image_tensor = transform(image)\n",
        "image_tensor = image_tensor.unsqueeze(0)"
      ]
    },
    {
      "cell_type": "code",
      "execution_count": null,
      "metadata": {},
      "outputs": [],
      "source": [
        "# Make a prediction\n",
        "with torch.no_grad():\n",
        "    logits = model(image_tensor)\n",
        "    probas = F.softmax(logits, dim=1)\n",
        "    predicted_class = torch.argmax(probas).item()\n",
        "    \n",
        "print(predicted_class)"
      ]
    },
    {
      "cell_type": "code",
      "execution_count": 36,
      "metadata": {
        "id": "-SDwpLcmS7PM"
      },
      "outputs": [],
      "source": [
        "# Define the label mapping\n",
        "label_map = {0:\"Sofa\", 1:\"Bed\", 2:\"Chair\"}"
      ]
    },
    {
      "cell_type": "code",
      "execution_count": null,
      "metadata": {
        "colab": {
          "base_uri": "https://localhost:8080/"
        },
        "id": "7KSXk-kBT7jr",
        "outputId": "b187f13a-8de6-456a-84d6-e5e330074310"
      },
      "outputs": [],
      "source": [
        "# Get the class label from the predicted label index using the label mapping\n",
        "predicted_class = label_map[predicted_class]\n",
        "print(predicted_class)"
      ]
    },
    {
      "cell_type": "code",
      "execution_count": null,
      "metadata": {
        "colab": {
          "base_uri": "https://localhost:8080/",
          "height": 404
        },
        "id": "iFAS1SGPT9wk",
        "outputId": "f22663fa-7770-4633-f4c3-5b426e1c092b"
      },
      "outputs": [],
      "source": [
        "# Load the image\n",
        "image = Image.open('/content/chair2.png')\n",
        "image_tensor = transform(image)\n",
        "image_tensor = image_tensor.unsqueeze(0)\n",
        "\n",
        "# Make a prediction\n",
        "with torch.no_grad():\n",
        "    logits = model(image_tensor)\n",
        "    probas = F.softmax(logits, dim=1)\n",
        "    predicted_class = torch.argmax(probas).item()\n",
        "    \n",
        "print(predicted_class)\n",
        "# Get the class label from the predicted label index using the label mapping\n",
        "predicted_class = label_map[predicted_class]\n",
        "print(predicted_class)"
      ]
    },
    {
      "cell_type": "code",
      "execution_count": null,
      "metadata": {
        "colab": {
          "base_uri": "https://localhost:8080/"
        },
        "id": "LZNYeSDqUnT7",
        "outputId": "10e562c2-3036-498e-b5f4-bdccfca6eabc"
      },
      "outputs": [],
      "source": [
        "# Load the image\n",
        "image = Image.open('/content/bed.jpg')\n",
        "image_tensor = transform(image)\n",
        "image_tensor = image_tensor.unsqueeze(0)\n",
        "\n",
        "# Make a prediction\n",
        "with torch.no_grad():\n",
        "    logits = model(image_tensor)\n",
        "    probas = F.softmax(logits, dim=1)\n",
        "    predicted_class = torch.argmax(probas).item()  \n",
        "print(predicted_class)\n",
        "\n",
        "# Get the class label from the predicted label index using the label mapping\n",
        "predicted_class = label_map[predicted_class]\n",
        "print(predicted_class)"
      ]
    }
  ],
  "metadata": {
    "accelerator": "GPU",
    "colab": {
      "provenance": []
    },
    "gpuClass": "standard",
    "kernelspec": {
      "display_name": "Python 3",
      "language": "python",
      "name": "python3"
    },
    "language_info": {
      "name": "python",
      "version": "3.10.0"
    },
    "vscode": {
      "interpreter": {
        "hash": "aee8b7b246df8f9039afb4144a1f6fd8d2ca17a180786b69acc140d282b71a49"
      }
    }
  },
  "nbformat": 4,
  "nbformat_minor": 0
}
